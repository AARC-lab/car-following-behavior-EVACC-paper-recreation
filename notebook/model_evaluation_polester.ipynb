version https://git-lfs.github.com/spec/v1
oid sha256:ae1ac54d5ded5140c8eb21336f6886a94e328babed3ed41880f53f9d52ff5feb
size 622955
