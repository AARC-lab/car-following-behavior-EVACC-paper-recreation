version https://git-lfs.github.com/spec/v1
oid sha256:6fadc74b42e74d07ca48f561dd4324ea93a9f7a084a6a4df64dea688858d5e8d
size 566081
